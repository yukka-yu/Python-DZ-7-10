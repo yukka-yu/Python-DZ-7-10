{
 "cells": [
  {
   "cell_type": "markdown",
   "metadata": {},
   "source": [
    "# 1. Ищем корни кубического уравнения, действительные и мнимые:"
   ]
  },
  {
   "cell_type": "code",
   "execution_count": 5,
   "metadata": {},
   "outputs": [
    {
     "name": "stdout",
     "output_type": "stream",
     "text": [
      "[-0.61792691-1.16523123j -0.61792691+1.16523123j  0.95807604+0.j        ]\n"
     ]
    }
   ],
   "source": [
    "from numpy.polynomial import Polynomial\n",
    "x = Polynomial([-30,10,5,18])\n",
    "print(x.roots())"
   ]
  },
  {
   "cell_type": "markdown",
   "metadata": {},
   "source": [
    "# Приблизительные значения корней функции [0.96, - 0.62 +/- 1.17 i]"
   ]
  },
  {
   "cell_type": "markdown",
   "metadata": {},
   "source": [
    "# 2, 3. Ищем области возрастания и убывания функции:\n",
    "( для этого находим производную и определяем, на каких участках она положительна и отрицательна)"
   ]
  },
  {
   "cell_type": "code",
   "execution_count": 8,
   "metadata": {},
   "outputs": [
    {
     "name": "stdout",
     "output_type": "stream",
     "text": [
      "54*x**2 + 10*x + 10\n"
     ]
    }
   ],
   "source": [
    "from sympy import *\n",
    "import numpy as np\n",
    "\n",
    "x = Symbol('x')\n",
    "y = 18 * x **3 + 5 * x ** 2 + 10 * x - 30\n",
    "\n",
    "yprime = y.diff(x)\n",
    "print(yprime)"
   ]
  },
  {
   "cell_type": "markdown",
   "metadata": {},
   "source": [
    "# Поскольку производная функции всегда положительна, функция только возрастает на всей области определения "
   ]
  },
  {
   "cell_type": "markdown",
   "metadata": {},
   "source": [
    "# 4. Строим график функции:"
   ]
  },
  {
   "cell_type": "code",
   "execution_count": 9,
   "metadata": {},
   "outputs": [
    {
     "data": {
      "text/plain": [
       "<function matplotlib.pyplot.show(close=None, block=None)>"
      ]
     },
     "execution_count": 9,
     "metadata": {},
     "output_type": "execute_result"
    },
    {
     "data": {
      "image/png": "[encoded data removed]",
      "text/plain": [
       "<Figure size 432x288 with 1 Axes>"
      ]
     },
     "metadata": {
      "needs_background": "light"
     },
     "output_type": "display_data"
    }
   ],
   "source": [
    "import matplotlib.pyplot as plt\n",
    "x_list = list(range(-100, 100))\n",
    "y_list = []\n",
    "\n",
    "for x in x_list:\n",
    "    y = 18 * x ** 3 + 5 * x ** 2 + 10 * x - 30\n",
    "    y_list.append(y)\n",
    "\n",
    "plt.plot(x_list, y_list)\n",
    "plt.show"
   ]
  },
  {
   "cell_type": "markdown",
   "metadata": {},
   "source": [
    "# 5. Ищем \"вершину\":\n",
    "(В данном случае могу только предположить, что под \"вершиной\" подразумевают точку перегиба. Её и будем искать, приравнивая нулю вторую производную.)"
   ]
  },
  {
   "cell_type": "code",
   "execution_count": 11,
   "metadata": {},
   "outputs": [
    {
     "name": "stdout",
     "output_type": "stream",
     "text": [
      "108*x + 10\n",
      "[-0.09259259]\n"
     ]
    }
   ],
   "source": [
    "x = Symbol('x')\n",
    "y = 18 * x **3 + 5 * x ** 2 + 10 * x - 30\n",
    "\n",
    "ysecond = y.diff(x).diff(x)\n",
    "print(ysecond)\n",
    "x = Polynomial([10, 108])\n",
    "print(x.roots())"
   ]
  },
  {
   "cell_type": "markdown",
   "metadata": {},
   "source": [
    "# Таким образом, точка перегиба функции находится примерно в точке x = -0.09"
   ]
  },
  {
   "cell_type": "markdown",
   "metadata": {},
   "source": [
    "# 6, 7. Ищем, где наша функция больше нуля и меньше нуля\n",
    "(как мы знаем, функция обращаяется в 0 в единственном вещественном корне, при x = 0.96)\n",
    "# Соответственно, функция больше нуля при x > 0.96 и функция меньше 0 при x < 0.96"
   ]
  }
 ],
 "metadata": {
  "kernelspec": {
   "display_name": "Python 3.10.4 64-bit",
   "language": "python",
   "name": "python3"
  },
  "language_info": {
   "codemirror_mode": {
    "name": "ipython",
    "version": 3
   },
   "file_extension": ".py",
   "mimetype": "text/x-python",
   "name": "python",
   "nbconvert_exporter": "python",
   "pygments_lexer": "ipython3",
   "version": "3.10.4"
  },
  "orig_nbformat": 4,
  "vscode": {
   "interpreter": {
    "hash": "916dbcbb3f70747c44a77c7bcd40155683ae19c65e1c03b4aa3499c5328201f1"
   }
  }
 },
 "nbformat": 4,
 "nbformat_minor": 2
}
